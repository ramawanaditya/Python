{
 "cells": [
  {
   "cell_type": "code",
   "execution_count": null,
   "id": "36eb927b",
   "metadata": {},
   "outputs": [],
   "source": [
    "# list\n",
    "# menggunakan kurung siku\n",
    "data_list = [10,2,4,3,2] \n",
    "print(data_list)\n",
    "\n",
    "# tuples\n",
    "data_tuples = (7,8,9,10)\n",
    "print(data_tuples)\n",
    "print(data_tuples[1])\n",
    "\n",
    "# tidak bisa dilakukan\n",
    "# data_tuples[1] = \"ucup\"\n",
    "# data_tuples.append(1)\n",
    "\n",
    "# sets (himpunan)\n",
    "data_sets = {10,4,3,2,4,7,6,5}\n",
    "print(data_sets)\n",
    "\n",
    "print(data_sets[0])"
   ]
  }
 ],
 "metadata": {
  "kernelspec": {
   "display_name": "Python 3 (ipykernel)",
   "language": "python",
   "name": "python3"
  },
  "language_info": {
   "codemirror_mode": {
    "name": "ipython",
    "version": 3
   },
   "file_extension": ".py",
   "mimetype": "text/x-python",
   "name": "python",
   "nbconvert_exporter": "python",
   "pygments_lexer": "ipython3",
   "version": "3.9.13"
  }
 },
 "nbformat": 4,
 "nbformat_minor": 5
}
