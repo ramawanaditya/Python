{
 "cells": [
  {
   "cell_type": "code",
   "execution_count": 14,
   "id": "59ea8e43",
   "metadata": {},
   "outputs": [
    {
     "name": "stdout",
     "output_type": "stream",
     "text": [
      "=== Kelvin - Fahrenheit ====\n",
      "Masukkan suhu kelvin = 275.4\n",
      "Suhu kelvinnya adalah= 275.4 Kelvin\n",
      "Suhu celcius dari kelvin adalah = 2.3999999999999773 celcius\n",
      "Suhu fahrenheit dari celcius adalah = 36.31999999999996 fahrenheit\n",
      "Maka suhu kelvin ketika dikonversikan ke dalam fahrenheit hasilnya adalah 36.31999999999996 fahrenheit\n",
      "\n",
      "=== Fahrenheit - Kelvin ====\n",
      "Masukkan suhu fahrenheit = 229.75\n",
      "Suhu fahrenheitnya adalah= 229.75 fahrenheit\n",
      "Suhu celcius dari kelvin adalah = 109.86111111111111 celcius\n",
      "Suhu kelvin dari celcius adalah = 382.8611111111111 kelvin\n",
      "Maka suhu fahrenheit ketika dikonversikan ke dalam kelvin hasilnya adalah 382.8611111111111 kelvin\n"
     ]
    }
   ],
   "source": [
    "print (\"=== Kelvin - Fahrenheit ====\")\n",
    "kelvin = float(input(\"Masukkan suhu kelvin = \"))\n",
    "print(\"Suhu kelvinnya adalah=\", kelvin, \"Kelvin\")\n",
    "\n",
    "#Konversikan suhu kelvin ke fahrenheit dengan cara suhu kelvin rubah dulu ke celcius/reamur\n",
    "\n",
    "celcius = kelvin - 273\n",
    "print(\"Suhu celcius dari kelvin adalah =\", celcius, \"celcius\")\n",
    "\n",
    "fahrenheit = ((9/5) * celcius) + 32\n",
    "print(\"Suhu fahrenheit dari celcius adalah =\", fahrenheit, \"fahrenheit\")\n",
    "print(\"Maka suhu kelvin ketika dikonversikan ke dalam fahrenheit hasilnya adalah\", fahrenheit, \"fahrenheit\")\n",
    "\n",
    "print(\"\")\n",
    "print (\"=== Fahrenheit - Kelvin ====\")\n",
    "fahrenheit = float(input(\"Masukkan suhu fahrenheit = \"))\n",
    "print(\"Suhu fahrenheitnya adalah=\", fahrenheit, \"fahrenheit\")\n",
    "\n",
    "#Konversikan suhu fahrenheit ke kelvin dengan cara suhu fahrenheit rubah dulu ke celcius/reamur\n",
    "\n",
    "celcius = (fahrenheit - 32) * 5/9\n",
    "print(\"Suhu celcius dari kelvin adalah =\", celcius, \"celcius\")\n",
    "\n",
    "kelvin = celcius + 273\n",
    "print(\"Suhu kelvin dari celcius adalah =\", kelvin, \"kelvin\")\n",
    "print(\"Maka suhu fahrenheit ketika dikonversikan ke dalam kelvin hasilnya adalah\", kelvin, \"kelvin\")\n"
   ]
  },
  {
   "cell_type": "code",
   "execution_count": null,
   "id": "84251a5d",
   "metadata": {},
   "outputs": [],
   "source": []
  }
 ],
 "metadata": {
  "kernelspec": {
   "display_name": "Python 3 (ipykernel)",
   "language": "python",
   "name": "python3"
  },
  "language_info": {
   "codemirror_mode": {
    "name": "ipython",
    "version": 3
   },
   "file_extension": ".py",
   "mimetype": "text/x-python",
   "name": "python",
   "nbconvert_exporter": "python",
   "pygments_lexer": "ipython3",
   "version": "3.9.13"
  }
 },
 "nbformat": 4,
 "nbformat_minor": 5
}
