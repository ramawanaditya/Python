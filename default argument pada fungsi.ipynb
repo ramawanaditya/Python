{
 "cells": [
  {
   "cell_type": "code",
   "execution_count": 1,
   "id": "3f224845",
   "metadata": {},
   "outputs": [
    {
     "name": "stdout",
     "output_type": "stream",
     "text": [
      "Hallo Ucup\n",
      "Hallo Ganteng\n"
     ]
    }
   ],
   "source": [
    "'''Default argument'''\n",
    "\n",
    "# def fungsi(argument):\n",
    "# def fungsi(argument = nilai defaultnya):\n",
    "\n",
    "# contoh 1\n",
    "def say_hello(nama = \"Ganteng\"):\n",
    "    '''fungsi dengan default argument'''\n",
    "    print(f\"Hallo {nama}\")\n",
    "\n",
    "\n",
    "say_hello(\"Ucup\")\n",
    "say_hello()"
   ]
  },
  {
   "cell_type": "code",
   "execution_count": 2,
   "id": "1048029b",
   "metadata": {},
   "outputs": [
    {
     "name": "stdout",
     "output_type": "stream",
     "text": [
      "hai Dudung, Hai Ganteeeng\n",
      "hai Otong, Apa kabar?\n"
     ]
    }
   ],
   "source": [
    "#contoh 2\n",
    "def sapa_dia(nama, pesan = \"Apa kabar?\"):\n",
    "    '''fungsi dengan satu input biasa, dan satu default argument'''\n",
    "    print(f\"hai {nama}, {pesan}\")\n",
    "\n",
    "sapa_dia(\"Dudung\",\"Hai Ganteeeng\")\n",
    "sapa_dia(\"Otong\")"
   ]
  },
  {
   "cell_type": "code",
   "execution_count": 4,
   "id": "796df7f1",
   "metadata": {},
   "outputs": [
    {
     "name": "stdout",
     "output_type": "stream",
     "text": [
      "16\n",
      "125\n"
     ]
    }
   ],
   "source": [
    "#contoh 3\n",
    "\n",
    "def hitung_pangkat(angka, pangkat=2):\n",
    "    hasil = angka**pangkat\n",
    "    return hasil\n",
    "\n",
    "print(hitung_pangkat(2,4))\n",
    "\n",
    "hasil = hitung_pangkat(pangkat=3, angka=5)\n",
    "print(hasil)"
   ]
  },
  {
   "cell_type": "code",
   "execution_count": 5,
   "id": "970f4708",
   "metadata": {},
   "outputs": [
    {
     "name": "stdout",
     "output_type": "stream",
     "text": [
      "10\n",
      "17\n"
     ]
    }
   ],
   "source": [
    "# contoh 4\n",
    "\n",
    "\n",
    "def fungsi(input1=1,input2=2,input3=3,input4=4):\n",
    "    hasil = input1 + input2 + input3 + input4\n",
    "    return hasil\n",
    "\n",
    "print(fungsi())\n",
    "print(fungsi(input3=10))"
   ]
  },
  {
   "cell_type": "code",
   "execution_count": null,
   "id": "63fdb9a8",
   "metadata": {},
   "outputs": [],
   "source": []
  }
 ],
 "metadata": {
  "kernelspec": {
   "display_name": "Python 3 (ipykernel)",
   "language": "python",
   "name": "python3"
  },
  "language_info": {
   "codemirror_mode": {
    "name": "ipython",
    "version": 3
   },
   "file_extension": ".py",
   "mimetype": "text/x-python",
   "name": "python",
   "nbconvert_exporter": "python",
   "pygments_lexer": "ipython3",
   "version": "3.9.13"
  }
 },
 "nbformat": 4,
 "nbformat_minor": 5
}
