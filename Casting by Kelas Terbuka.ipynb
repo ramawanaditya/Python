{
 "cells": [
  {
   "cell_type": "code",
   "execution_count": 7,
   "id": "dcb1c5fe",
   "metadata": {},
   "outputs": [
    {
     "name": "stdout",
     "output_type": "stream",
     "text": [
      "====INTEGER====\n",
      "data = 10 , typenya adalah <class 'int'>\n",
      "datanya adalah 10.0 , typenya adalah <class 'float'>\n",
      "datanya adalah 10 , typenya adalah <class 'str'>\n",
      "datanya adalah True , typenya adalah <class 'bool'>\n",
      "====FLOAT=====\n",
      "data = 9.5 , typenya adalah <class 'float'>\n",
      "datanya adalah 9 , typenya adalah <class 'int'>\n",
      "datanya adalah 9.5 , typenya adalah <class 'str'>\n",
      "datanya adalah True , typenya adalah <class 'bool'>\n",
      "====STRING=====\n",
      "data = 8 , typenya adalah <class 'int'>\n",
      "datanya adalah 8 , typenya adalah <class 'int'>\n",
      "datanya adalah 8.0 , typenya adalah <class 'float'>\n",
      "datanya adalah True , typenya adalah <class 'bool'>\n",
      "====BOOLEAN=====\n",
      "data = False , typenya adalah <class 'bool'>\n",
      "datanya adalah 0 , typenya adalah <class 'int'>\n",
      "datanya adalah 0.0 , typenya adalah <class 'float'>\n",
      "datanya adalah False , typenya adalah <class 'str'>\n"
     ]
    }
   ],
   "source": [
    "#casting\n",
    "#merubah tipe data satu ke tipe data yang lain\n",
    "\n",
    "print(\"====INTEGER====\")\n",
    "data_int = 10\n",
    "print(\"data =\", data_int,\", typenya adalah\", type(data_int))\n",
    "\n",
    "data_float = float(data_int)\n",
    "data_str = str(data_int)\n",
    "data_boolean = bool(data_int) #jika nilai int nya 0 maka bool akan false\n",
    "print(\"datanya adalah\", data_float,\", typenya adalah\", type(data_float))\n",
    "print(\"datanya adalah\", data_str,\", typenya adalah\", type(data_str))\n",
    "print(\"datanya adalah\", data_boolean,\", typenya adalah\", type(data_boolean))\n",
    "\n",
    "print(\"====FLOAT=====\")\n",
    "data_float = 9.5\n",
    "print(\"data =\", data_float,\", typenya adalah\", type(data_float))\n",
    "\n",
    "data_int = int(data_float)\n",
    "data_str = str(data_float)   \n",
    "data_boolean = bool(data_float) #jika nilai int nya 0 maka bool akan false\n",
    "print(\"datanya adalah\", data_int,\", typenya adalah\", type(data_int))\n",
    "print(\"datanya adalah\", data_str,\", typenya adalah\", type(data_str))\n",
    "print(\"datanya adalah\", data_boolean,\", typenya adalah\", type(data_boolean))\n",
    "\n",
    "\n",
    "print(\"====STRING=====\")\n",
    "data_str = 8\n",
    "print(\"data =\", data_str,\", typenya adalah\", type(data_str))\n",
    "\n",
    "data_int = int(data_str) #string harus angka, jika huruf akan error\n",
    "data_float = float(data_str) #string harus angka\n",
    "data_boolean = bool(data_str) #false jika string kosong \"\"\n",
    "print(\"datanya adalah\", data_int,\", typenya adalah\", type(data_int))\n",
    "print(\"datanya adalah\", data_float,\", typenya adalah\", type(data_float))\n",
    "print(\"datanya adalah\", data_boolean,\", typenya adalah\", type(data_boolean))\n",
    "\n",
    "print(\"====BOOLEAN=====\")\n",
    "data_boolean = False\n",
    "print(\"data =\", data_boolean,\", typenya adalah\", type(data_boolean))\n",
    "\n",
    "data_int = int(data_boolean)\n",
    "data_float = float(data_boolean)   \n",
    "data_str = str(data_boolean) #jika nilai int nya 0 maka bool akan false\n",
    "print(\"datanya adalah\", data_int,\", typenya adalah\", type(data_int))\n",
    "print(\"datanya adalah\", data_float,\", typenya adalah\", type(data_float))\n",
    "print(\"datanya adalah\", data_str,\", typenya adalah\", type(data_str))"
   ]
  },
  {
   "cell_type": "code",
   "execution_count": null,
   "id": "fd516df2",
   "metadata": {},
   "outputs": [],
   "source": []
  }
 ],
 "metadata": {
  "kernelspec": {
   "display_name": "Python 3 (ipykernel)",
   "language": "python",
   "name": "python3"
  },
  "language_info": {
   "codemirror_mode": {
    "name": "ipython",
    "version": 3
   },
   "file_extension": ".py",
   "mimetype": "text/x-python",
   "name": "python",
   "nbconvert_exporter": "python",
   "pygments_lexer": "ipython3",
   "version": "3.9.13"
  }
 },
 "nbformat": 4,
 "nbformat_minor": 5
}
